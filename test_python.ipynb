{
  "nbformat": 4,
  "nbformat_minor": 0,
  "metadata": {
    "colab": {
      "provenance": [],
      "authorship_tag": "ABX9TyO6iBr/GQ2XgKPioAVpDp94",
      "include_colab_link": true
    },
    "kernelspec": {
      "name": "python3",
      "display_name": "Python 3"
    },
    "language_info": {
      "name": "python"
    }
  },
  "cells": [
    {
      "cell_type": "markdown",
      "metadata": {
        "id": "view-in-github",
        "colab_type": "text"
      },
      "source": [
        "<a href=\"https://colab.research.google.com/github/MrKaKaDu/collab_test/blob/main/test_python.ipynb\" target=\"_parent\"><img src=\"https://colab.research.google.com/assets/colab-badge.svg\" alt=\"Open In Colab\"/></a>"
      ]
    },
    {
      "cell_type": "code",
      "execution_count": null,
      "metadata": {
        "colab": {
          "base_uri": "https://localhost:8080/"
        },
        "id": "T83G3I6sU4OW",
        "outputId": "264a79d1-8311-4730-aafc-699d57a214fb"
      },
      "outputs": [
        {
          "output_type": "stream",
          "name": "stdout",
          "text": [
            "x\n",
            "7\n"
          ]
        }
      ],
      "source": [
        "print('x')\n",
        "x = 7\n",
        "print(x)"
      ]
    },
    {
      "cell_type": "code",
      "source": [
        "x = ('a','b','c')\n",
        "len(x)\n",
        "y = ('d','e','f')\n",
        "x += y\n",
        "(a,b,*c) = x\n",
        "x *= 2\n",
        "\n",
        "print(x)\n",
        "print(a,b,c)"
      ],
      "metadata": {
        "colab": {
          "base_uri": "https://localhost:8080/"
        },
        "id": "YbCcraQ9a16g",
        "outputId": "a0b03d08-bc0e-4470-e2b0-6a05df34acc0"
      },
      "execution_count": null,
      "outputs": [
        {
          "output_type": "stream",
          "name": "stdout",
          "text": [
            "('a', 'b', 'c', 'd', 'e', 'f', 'a', 'b', 'c', 'd', 'e', 'f')\n",
            "a b ['c', 'd', 'e', 'f']\n"
          ]
        }
      ]
    },
    {
      "cell_type": "code",
      "source": [
        "def func(*x):\n",
        "  print(x)\n",
        "\n",
        "func(123,456)"
      ],
      "metadata": {
        "colab": {
          "base_uri": "https://localhost:8080/"
        },
        "id": "NhBiuNuf2r4c",
        "outputId": "9ee1024a-4736-4f35-8bef-98ddf2143d46"
      },
      "execution_count": null,
      "outputs": [
        {
          "output_type": "stream",
          "name": "stdout",
          "text": [
            "(123, 456)\n"
          ]
        }
      ]
    },
    {
      "cell_type": "code",
      "source": [
        "def func2(x):\n",
        "  print(x)\n",
        "\n",
        "func2('x')"
      ],
      "metadata": {
        "colab": {
          "base_uri": "https://localhost:8080/"
        },
        "id": "bqLggdh5PCD0",
        "outputId": "e4621377-3d21-4437-b509-3ca992a93ec2"
      },
      "execution_count": 21,
      "outputs": [
        {
          "output_type": "stream",
          "name": "stdout",
          "text": [
            "x\n"
          ]
        }
      ]
    }
  ]
}